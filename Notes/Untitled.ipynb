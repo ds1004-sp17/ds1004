{
 "cells": [
  {
   "cell_type": "code",
   "execution_count": 28,
   "metadata": {
    "collapsed": false
   },
   "outputs": [],
   "source": [
    "sc = SparkContext()"
   ]
  },
  {
   "cell_type": "code",
   "execution_count": 19,
   "metadata": {
    "collapsed": true
   },
   "outputs": [],
   "source": [
    "import pyspark \n",
    "from pyspark import SparkContext, SparkConf\n",
    "from csv import reader\n",
    "from glob import glob\n",
    "from operator import add\n",
    "from datetime import datetime\n",
    "import os"
   ]
  },
  {
   "cell_type": "code",
   "execution_count": 29,
   "metadata": {
    "collapsed": false
   },
   "outputs": [],
   "source": [
    "complaint = sc.textFile('../data/311.csv')"
   ]
  },
  {
   "cell_type": "code",
   "execution_count": 30,
   "metadata": {
    "collapsed": false
   },
   "outputs": [],
   "source": [
    "complaints = complaint.mapPartitions(lambda x: reader(x, delimiter = ',',quotechar = '\"'))"
   ]
  },
  {
   "cell_type": "code",
   "execution_count": 31,
   "metadata": {
    "collapsed": false
   },
   "outputs": [
    {
     "name": "stdout",
     "output_type": "stream",
     "text": [
      "[['Unique Key', 'Created Date', 'Closed Date', 'Agency', 'Agency Name', 'Complaint Type', 'Descriptor', 'Location Type', 'Incident Zip', 'Incident Address', 'Street Name', 'Cross Street 1', 'Cross Street 2', 'Intersection Street 1', 'Intersection Street 2', 'Address Type', 'City', 'Landmark', 'Facility Type', 'Status', 'Due Date', 'Resolution Action Updated Date', 'Community Board', 'Borough', 'X Coordinate (State Plane)', 'Y Coordinate (State Plane)', 'Park Facility Name', 'Park Borough', 'School Name', 'School Number', 'School Region', 'School Code', 'School Phone Number', 'School Address', 'School City', 'School State', 'School Zip', 'School Not Found', 'School or Citywide Complaint', 'Vehicle Type', 'Taxi Company Borough', 'Taxi Pick Up Location', 'Bridge Highway Name', 'Bridge Highway Direction', 'Road Ramp', 'Bridge Highway Segment', 'Garage Lot Name', 'Ferry Direction', 'Ferry Terminal Name', 'Latitude', 'Longitude', 'Location'], ['35603714', '03/01/2017 12:00:00 AM', '03/13/2017 12:00:00 AM', 'DOHMH', 'Department of Health and Mental Hygiene', 'Rodent', 'Rat Sighting', '3+ Family Apt. Building', '10453', '2016 DAVIDSON AVENUE', 'DAVIDSON AVENUE', 'WEST TREMONT AVENUE', 'WEST BURNSIDE AVENUE', '', '', 'ADDRESS', 'BRONX', '', 'N/A', 'Closed', '03/31/2017 01:59:21 PM', '03/13/2017 12:00:00 AM', '05 BRONX', 'BRONX', '1009391', '250105', 'Unspecified', 'BRONX', 'Unspecified', 'Unspecified', 'Unspecified', 'Unspecified', 'Unspecified', 'Unspecified', 'Unspecified', 'Unspecified', 'Unspecified', 'N', '', '', '', '', '', '', '', '', '', '', '', '40.85311958902874', '-73.90912144540688', '(40.85311958902874, -73.90912144540688)']]\n"
     ]
    }
   ],
   "source": [
    "header = complaints.take(2)\n",
    "print header"
   ]
  },
  {
   "cell_type": "code",
   "execution_count": 41,
   "metadata": {
    "collapsed": true
   },
   "outputs": [],
   "source": [
    "import numpy as np\n",
    "from collections import Counter"
   ]
  },
  {
   "cell_type": "code",
   "execution_count": 7,
   "metadata": {
    "collapsed": false
   },
   "outputs": [
    {
     "name": "stdout",
     "output_type": "stream",
     "text": [
      "Counter({'Location': 51, 'Longitude': 50, 'Latitude': 49, 'Ferry Terminal Name': 48, 'Ferry Direction': 47, 'Garage Lot Name': 46, 'Bridge Highway Segment': 45, 'Road Ramp': 44, 'Bridge Highway Direction': 43, 'Bridge Highway Name': 42, 'Taxi Pick Up Location': 41, 'Taxi Company Borough': 40, 'Vehicle Type': 39, 'School or Citywide Complaint': 38, 'School Not Found': 37, 'School Zip': 36, 'School State': 35, 'School City': 34, 'School Address': 33, 'School Phone Number': 32, 'School Code': 31, 'School Region': 30, 'School Number': 29, 'School Name': 28, 'Park Borough': 27, 'Park Facility Name': 26, 'Y Coordinate (State Plane)': 25, 'X Coordinate (State Plane)': 24, 'Borough': 23, 'Community Board': 22, 'Resolution Action Updated Date': 21, 'Due Date': 20, 'Status': 19, 'Facility Type': 18, 'Landmark': 17, 'City': 16, 'Address Type': 15, 'Intersection Street 2': 14, 'Intersection Street 1': 13, 'Cross Street 2': 12, 'Cross Street 1': 11, 'Street Name': 10, 'Incident Address': 9, 'Incident Zip': 8, 'Location Type': 7, 'Descriptor': 6, 'Complaint Type': 5, 'Agency Name': 4, 'Agency': 3, 'Closed Date': 2, 'Created Date': 1, 'Unique Key': 0})\n"
     ]
    }
   ],
   "source": [
    "index = Counter()\n",
    "for i,j in enumerate(header[0]):\n",
    "    index[j] = i\n",
    "print index"
   ]
  },
  {
   "cell_type": "code",
   "execution_count": 32,
   "metadata": {
    "collapsed": false
   },
   "outputs": [
    {
     "data": {
      "text/plain": [
       "[['Unique Key',\n",
       "  'Created Date',\n",
       "  'Closed Date',\n",
       "  'Agency',\n",
       "  'Agency Name',\n",
       "  'Complaint Type',\n",
       "  'Descriptor',\n",
       "  'Location Type',\n",
       "  'Incident Zip',\n",
       "  'Incident Address',\n",
       "  'Street Name',\n",
       "  'Cross Street 1',\n",
       "  'Cross Street 2',\n",
       "  'Intersection Street 1',\n",
       "  'Intersection Street 2',\n",
       "  'Address Type',\n",
       "  'City',\n",
       "  'Landmark',\n",
       "  'Facility Type',\n",
       "  'Status',\n",
       "  'Due Date',\n",
       "  'Resolution Action Updated Date',\n",
       "  'Community Board',\n",
       "  'Borough',\n",
       "  'X Coordinate (State Plane)',\n",
       "  'Y Coordinate (State Plane)',\n",
       "  'Park Facility Name',\n",
       "  'Park Borough',\n",
       "  'School Name',\n",
       "  'School Number',\n",
       "  'School Region',\n",
       "  'School Code',\n",
       "  'School Phone Number',\n",
       "  'School Address',\n",
       "  'School City',\n",
       "  'School State',\n",
       "  'School Zip',\n",
       "  'School Not Found',\n",
       "  'School or Citywide Complaint',\n",
       "  'Vehicle Type',\n",
       "  'Taxi Company Borough',\n",
       "  'Taxi Pick Up Location',\n",
       "  'Bridge Highway Name',\n",
       "  'Bridge Highway Direction',\n",
       "  'Road Ramp',\n",
       "  'Bridge Highway Segment',\n",
       "  'Garage Lot Name',\n",
       "  'Ferry Direction',\n",
       "  'Ferry Terminal Name',\n",
       "  'Latitude',\n",
       "  'Longitude',\n",
       "  'Location'],\n",
       " ['35603714',\n",
       "  '03/01/2017 12:00:00 AM',\n",
       "  '03/13/2017 12:00:00 AM',\n",
       "  'DOHMH',\n",
       "  'Department of Health and Mental Hygiene',\n",
       "  'Rodent',\n",
       "  'Rat Sighting',\n",
       "  '3+ Family Apt. Building',\n",
       "  '10453',\n",
       "  '2016 DAVIDSON AVENUE',\n",
       "  'DAVIDSON AVENUE',\n",
       "  'WEST TREMONT AVENUE',\n",
       "  'WEST BURNSIDE AVENUE',\n",
       "  '',\n",
       "  '',\n",
       "  'ADDRESS',\n",
       "  'BRONX',\n",
       "  '',\n",
       "  'N/A',\n",
       "  'Closed',\n",
       "  '03/31/2017 01:59:21 PM',\n",
       "  '03/13/2017 12:00:00 AM',\n",
       "  '05 BRONX',\n",
       "  'BRONX',\n",
       "  '1009391',\n",
       "  '250105',\n",
       "  'Unspecified',\n",
       "  'BRONX',\n",
       "  'Unspecified',\n",
       "  'Unspecified',\n",
       "  'Unspecified',\n",
       "  'Unspecified',\n",
       "  'Unspecified',\n",
       "  'Unspecified',\n",
       "  'Unspecified',\n",
       "  'Unspecified',\n",
       "  'Unspecified',\n",
       "  'N',\n",
       "  '',\n",
       "  '',\n",
       "  '',\n",
       "  '',\n",
       "  '',\n",
       "  '',\n",
       "  '',\n",
       "  '',\n",
       "  '',\n",
       "  '',\n",
       "  '',\n",
       "  '40.85311958902874',\n",
       "  '-73.90912144540688',\n",
       "  '(40.85311958902874, -73.90912144540688)']]"
      ]
     },
     "execution_count": 32,
     "metadata": {},
     "output_type": "execute_result"
    }
   ],
   "source": [
    "complaints = complaint.map(lambda x: x.encode('ascii', 'ignore')) \\\n",
    "                      .mapPartitions(lambda x: reader(x, delimiter = ',',quotechar = '\"'))\n",
    "complaints.take(2)"
   ]
  },
  {
   "cell_type": "code",
   "execution_count": 52,
   "metadata": {
    "collapsed": false
   },
   "outputs": [],
   "source": [
    "def check_datetime(dt):\n",
    "    try:\n",
    "        d = datetime.strptime(dt, \"%m/%d/%Y %I:%M:%S %p\")\n",
    "        if d.year < 2009 or d.year > 2017:\n",
    "            return False\n",
    "    except ValueError:\n",
    "        return False\n",
    "\n",
    "    return True\n",
    "\n",
    "def get_date(dt):\n",
    "    d = datetime.strptime(dt, \"%m/%d/%Y %I:%M:%S %p\")\n",
    "    return str(d.year), str(d.month), str(d.day)\n",
    "\n",
    "\n",
    "def get_date2(dt):\n",
    "    d = datetime.strptime(dt, \"%m/%d/%Y %I:%M:%S %p\")\n",
    "    return str(d.date())\n",
    "\n",
    "def solve_time(created, closed):\n",
    "    created = datetime.strptime(created, \"%m/%d/%Y %I:%M:%S %p\")\n",
    "    try:\n",
    "        closed = datetime.strptime(closed, \"%m/%d/%Y %I:%M:%S %p\")\n",
    "    except ValueError:\n",
    "        closed = datetime.now()\n",
    "    return (closed - created).days\n",
    "\n",
    "def get_week(dt):\n",
    "    d = datetime.strptime(dt, \"%m/%d/%Y %I:%M:%S %p\")\n",
    "    return d.year, d.weekday(), d.hour"
   ]
  },
  {
   "cell_type": "code",
   "execution_count": 24,
   "metadata": {
    "collapsed": false
   },
   "outputs": [
    {
     "data": {
      "text/plain": [
       "[(((2017, 3, 8), 'HPD', 'GENERAL'), 78)]"
      ]
     },
     "execution_count": 24,
     "metadata": {},
     "output_type": "execute_result"
    }
   ],
   "source": [
    "complaints.filter(lambda x : check_datetime(x[1])) \\\n",
    "          .map(lambda x : ((get_date(x[1]), x[3],x[5]), 1)) \\\n",
    "          .foldByKey(0, add) \\\n",
    "          .take(1)"
   ]
  },
  {
   "cell_type": "code",
   "execution_count": 59,
   "metadata": {
    "collapsed": false
   },
   "outputs": [
    {
     "data": {
      "text/plain": [
       "1557687"
      ]
     },
     "execution_count": 59,
     "metadata": {},
     "output_type": "execute_result"
    }
   ],
   "source": [
    "complaints.filter(lambda x : check_datetime(x[1])) \\\n",
    "          .map(lambda x : ((get_date(x[1])[0:2], x[3],x[5],x[8],x[22],x[23]), 1)) \\\n",
    "          .foldByKey(0, add) \\\n",
    "          .count()"
   ]
  },
  {
   "cell_type": "code",
   "execution_count": 37,
   "metadata": {
    "collapsed": false
   },
   "outputs": [
    {
     "data": {
      "text/plain": [
       "[(('DSNY', 'Overflowing Litter Baskets', '', '17 BROOKLYN', 'BROOKLYN'), [1]),\n",
       " (('DSNY', 'Dirty Conditions', '10013', '01 MANHATTAN', 'MANHATTAN'),\n",
       "  [4, 3, 5, 3, 3])]"
      ]
     },
     "execution_count": 37,
     "metadata": {},
     "output_type": "execute_result"
    }
   ],
   "source": [
    "complaints.filter(lambda x : check_datetime(x[1])) \\\n",
    "          .map(lambda x: ((x[3],x[5],x[8],x[22],x[23]), solve_time(x[1], x[2]))) \\\n",
    "          .groupByKey() \\\n",
    "          .mapValues(list).take(2)\n",
    "          "
   ]
  },
  {
   "cell_type": "code",
   "execution_count": 45,
   "metadata": {
    "collapsed": false
   },
   "outputs": [
    {
     "data": {
      "text/plain": [
       "[(((2017, 6, 19), 'NYPD', 'Noise - Residential', 'BROOKLYN'), 28),\n",
       " (((2017, 6, 10), 'NYPD', 'Noise - Vehicle', 'BRONX'), 2),\n",
       " (((2017, 4, 11), 'DPR', 'New Tree Request', 'QUEENS'), 2)]"
      ]
     },
     "execution_count": 45,
     "metadata": {},
     "output_type": "execute_result"
    }
   ],
   "source": [
    "complaints.filter(lambda x : check_datetime(x[1])) \\\n",
    "          .map(lambda x : ((get_week(x[1]),x[3],x[5],x[23]), 1)) \\\n",
    "          .foldByKey(0, add) \\\n",
    "          .take(3)"
   ]
  },
  {
   "cell_type": "code",
   "execution_count": 54,
   "metadata": {
    "collapsed": false
   },
   "outputs": [],
   "source": [
    "## number of complaint by agency each day in years\n",
    "num_agency_day = complaints.filter(lambda x : check_datetime(x[1])) \\\n",
    "                           .map(lambda x : ((get_date2(x[1]),x[3]), 1)) \\\n",
    "                           .foldByKey(0, add) \\\n",
    "                           .map(lambda x: [x[0][0],x[0][1],x[1]]).collect()"
   ]
  },
  {
   "cell_type": "code",
   "execution_count": 55,
   "metadata": {
    "collapsed": false
   },
   "outputs": [],
   "source": [
    "num_agency_day = np.array(num_agency_day)"
   ]
  },
  {
   "cell_type": "code",
   "execution_count": 51,
   "metadata": {
    "collapsed": false
   },
   "outputs": [
    {
     "data": {
      "text/plain": [
       "'2017-03-31'"
      ]
     },
     "execution_count": 51,
     "metadata": {},
     "output_type": "execute_result"
    }
   ],
   "source": [
    "d = datetime.strptime('03/31/2017 01:59:21 PM', \"%m/%d/%Y %I:%M:%S %p\")\n",
    "str(d.date())"
   ]
  },
  {
   "cell_type": "code",
   "execution_count": 10,
   "metadata": {
    "collapsed": false
   },
   "outputs": [],
   "source": [
    "import plotly.plotly as py\n",
    "from plotly.offline import plot\n",
    "import plotly.graph_objs as go\n"
   ]
  },
  {
   "cell_type": "code",
   "execution_count": 11,
   "metadata": {
    "collapsed": false
   },
   "outputs": [
    {
     "data": {
      "text/plain": [
       "'file:///Users/xiaodiu/Documents/github/ds1004/Notes/my-graph.html'"
      ]
     },
     "execution_count": 11,
     "metadata": {},
     "output_type": "execute_result"
    }
   ],
   "source": [
    "plot([go.Scatter(x=[1, 2, 3], y=[3, 2, 6])], filename='my-graph.html',image='jpeg')"
   ]
  },
  {
   "cell_type": "code",
   "execution_count": 16,
   "metadata": {
    "collapsed": false
   },
   "outputs": [
    {
     "data": {
      "text/plain": [
       "'file:///Users/xiaodiu/Documents/github/ds1004/Notes/bubble.html'"
      ]
     },
     "execution_count": 16,
     "metadata": {},
     "output_type": "execute_result"
    }
   ],
   "source": [
    " trace = go.Scatter (\n",
    "        x = [ 1, 2, 3 ] , \n",
    "        y = [ 1, 2, 3 ] , \n",
    "        marker = dict (\n",
    "            color = [ 'red', 'blue' , 'green' ],\n",
    "            size = [ 30, 80, 200 ] ) ,\n",
    "        mode = 'markers')\n",
    "plot([trace], filename='bubble.html')"
   ]
  },
  {
   "cell_type": "code",
   "execution_count": 17,
   "metadata": {
    "collapsed": false
   },
   "outputs": [
    {
     "data": {
      "text/plain": [
       "'file:///Users/xiaodiu/Documents/github/ds1004/Notes/bubble.html'"
      ]
     },
     "execution_count": 17,
     "metadata": {},
     "output_type": "execute_result"
    }
   ],
   "source": [
    "trace = go.Scatter(\n",
    "        x=[1,2],\n",
    "        y=[1,2],\n",
    "        fill = 'tonexty')\n",
    "data = [trace]\n",
    "plot([trace], filename='bubble.html')\n"
   ]
  },
  {
   "cell_type": "code",
   "execution_count": 60,
   "metadata": {
    "collapsed": false
   },
   "outputs": [
    {
     "data": {
      "text/plain": [
       "array([ 10,  21,  29,  47, 113, 133, 138, 140, 184, 206, 207, 247, 250,\n",
       "       282, 286, 311, 400, 420, 429, 552, 554, 575, 599])"
      ]
     },
     "execution_count": 60,
     "metadata": {},
     "output_type": "execute_result"
    }
   ],
   "source": [
    "np.where(num_agency_day == 'ACS')[0]"
   ]
  },
  {
   "cell_type": "code",
   "execution_count": null,
   "metadata": {
    "collapsed": true
   },
   "outputs": [],
   "source": []
  }
 ],
 "metadata": {
  "kernelspec": {
   "display_name": "Pyspark",
   "language": "python",
   "name": "pyspark"
  },
  "language_info": {
   "codemirror_mode": {
    "name": "ipython",
    "version": 2
   },
   "file_extension": ".py",
   "mimetype": "text/x-python",
   "name": "python",
   "nbconvert_exporter": "python",
   "pygments_lexer": "ipython2",
   "version": "2.7.12"
  }
 },
 "nbformat": 4,
 "nbformat_minor": 0
}
